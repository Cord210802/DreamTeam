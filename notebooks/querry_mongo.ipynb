{
 "cells": [
  {
   "cell_type": "markdown",
   "metadata": {},
   "source": [
    "### Que pedo "
   ]
  },
  {
   "cell_type": "code",
   "execution_count": 1,
   "metadata": {},
   "outputs": [],
   "source": [
    "import requests\n",
    "import pymongo\n",
    "from pymongo import MongoClient"
   ]
  },
  {
   "cell_type": "markdown",
   "metadata": {},
   "source": [
    "client = MongoClient('mongodb://mongodb:27017/')\n",
    "db = client['spotify']\n",
    "col = db[\"artists\"]\n",
    "print(col.find())"
   ]
  },
  {
   "cell_type": "code",
   "execution_count": 2,
   "metadata": {},
   "outputs": [
    {
     "name": "stdout",
     "output_type": "stream",
     "text": [
      "{'_id': ObjectId('6657f31d0c1d4ac8b6531bfc'), 'track_name': 'Comfortably Numb', 'track_id': '5HNCy40Ni5BZJFw1TKzRsC', 'artist_name': 'Pink Floyd', 'artist_id': '0k17h0D3J5VfsdmQ1iZtE9', 'album_name': 'The Wall', 'album_id': '5Dbax7G8SWrP9xyzkOvy2F'}\n"
     ]
    }
   ],
   "source": [
    "from pymongo import MongoClient\n",
    "\n",
    "# Establecer la conexión a MongoDB\n",
    "client = MongoClient('mongodb://mongodb:27017/')\n",
    "\n",
    "# Acceder a la base de datos 'spotify'\n",
    "db = client['spotify']\n",
    "\n",
    "# Acceder a la colección 'artists'\n",
    "col = db[\"tracks\"]\n",
    "\n",
    "# Obtener y imprimir un solo documento de la colección 'artists'\n",
    "document = col.find_one()\n",
    "print(document)"
   ]
  }
 ],
 "metadata": {
  "kernelspec": {
   "display_name": "Python 3 (ipykernel)",
   "language": "python",
   "name": "python3"
  },
  "language_info": {
   "codemirror_mode": {
    "name": "ipython",
    "version": 3
   },
   "file_extension": ".py",
   "mimetype": "text/x-python",
   "name": "python",
   "nbconvert_exporter": "python",
   "pygments_lexer": "ipython3",
   "version": "3.8.19"
  }
 },
 "nbformat": 4,
 "nbformat_minor": 4
}
