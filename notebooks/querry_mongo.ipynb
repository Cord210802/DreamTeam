{
 "cells": [
  {
   "cell_type": "markdown",
   "metadata": {},
   "source": [
    "### Que pedo "
   ]
  },
  {
   "cell_type": "code",
   "execution_count": 1,
   "metadata": {},
   "outputs": [],
   "source": [
    "import requests\n",
    "import pymongo\n",
    "from pymongo import MongoClient"
   ]
  },
  {
   "cell_type": "markdown",
   "metadata": {},
   "source": [
    "client = MongoClient('mongodb://mongodb:27017/')\n",
    "db = client['spotify']\n",
    "col = db[\"artists\"]\n",
    "print(col.find())"
   ]
  },
  {
   "cell_type": "code",
   "execution_count": 3,
   "metadata": {},
   "outputs": [
    {
     "name": "stdout",
     "output_type": "stream",
     "text": [
      "{'_id': ObjectId('6657f0ecb14103b2e682fb5c'), 'external_urls': {'spotify': 'https://open.spotify.com/artist/2tRsMl4eGxwoNabM08Dm4I'}, 'followers': {'href': None, 'total': 4027974}, 'genres': ['album rock', 'alternative metal', 'birmingham metal', 'glam metal', 'hard rock', 'metal', 'rock'], 'href': 'https://api.spotify.com/v1/artists/2tRsMl4eGxwoNabM08Dm4I', 'id': '2tRsMl4eGxwoNabM08Dm4I', 'images': [{'height': 640, 'url': 'https://i.scdn.co/image/ab6761610000e5eb4b3cfc24737acb15e73e8bd6', 'width': 640}, {'height': 320, 'url': 'https://i.scdn.co/image/ab676161000051744b3cfc24737acb15e73e8bd6', 'width': 320}, {'height': 160, 'url': 'https://i.scdn.co/image/ab6761610000f1784b3cfc24737acb15e73e8bd6', 'width': 160}], 'name': 'Judas Priest', 'popularity': 64, 'type': 'artist', 'uri': 'spotify:artist:2tRsMl4eGxwoNabM08Dm4I'}\n"
     ]
    }
   ],
   "source": [
    "from pymongo import MongoClient\n",
    "\n",
    "# Establecer la conexión a MongoDB\n",
    "client = MongoClient('mongodb://mongodb:27017/')\n",
    "\n",
    "# Acceder a la base de datos 'spotify'\n",
    "db = client['spotify']\n",
    "\n",
    "# Acceder a la colección 'artists'\n",
    "col = db[\"artists\"]\n",
    "\n",
    "# Obtener y imprimir un solo documento de la colección 'artists'\n",
    "document = col.find_one()\n",
    "print(document)"
   ]
  }
 ],
 "metadata": {
  "kernelspec": {
   "display_name": "Python 3 (ipykernel)",
   "language": "python",
   "name": "python3"
  },
  "language_info": {
   "codemirror_mode": {
    "name": "ipython",
    "version": 3
   },
   "file_extension": ".py",
   "mimetype": "text/x-python",
   "name": "python",
   "nbconvert_exporter": "python",
   "pygments_lexer": "ipython3",
   "version": "3.8.19"
  }
 },
 "nbformat": 4,
 "nbformat_minor": 4
}
