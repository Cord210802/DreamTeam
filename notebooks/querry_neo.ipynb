{
 "cells": [
  {
   "cell_type": "code",
   "execution_count": 1,
   "metadata": {},
   "outputs": [
    {
     "name": "stdout",
     "output_type": "stream",
     "text": [
      "Requirement already satisfied: py2neo in /usr/local/lib/python3.8/site-packages (2021.2.4)\n",
      "Requirement already satisfied: packaging in /usr/local/lib/python3.8/site-packages (from py2neo) (24.0)\n",
      "Requirement already satisfied: certifi in /usr/local/lib/python3.8/site-packages (from py2neo) (2024.2.2)\n",
      "Requirement already satisfied: monotonic in /usr/local/lib/python3.8/site-packages (from py2neo) (1.6)\n",
      "Requirement already satisfied: urllib3 in /usr/local/lib/python3.8/site-packages (from py2neo) (2.2.1)\n",
      "Requirement already satisfied: interchange~=2021.0.4 in /usr/local/lib/python3.8/site-packages (from py2neo) (2021.0.4)\n",
      "Requirement already satisfied: pygments>=2.0.0 in /usr/local/lib/python3.8/site-packages (from py2neo) (2.18.0)\n",
      "Requirement already satisfied: six>=1.15.0 in /usr/local/lib/python3.8/site-packages (from py2neo) (1.16.0)\n",
      "Requirement already satisfied: pansi>=2020.7.3 in /usr/local/lib/python3.8/site-packages (from py2neo) (2020.7.3)\n",
      "Requirement already satisfied: pytz in /usr/local/lib/python3.8/site-packages (from interchange~=2021.0.4->py2neo) (2024.1)\n",
      "\u001b[33mWARNING: Running pip as the 'root' user can result in broken permissions and conflicting behaviour with the system package manager. It is recommended to use a virtual environment instead: https://pip.pypa.io/warnings/venv\u001b[0m\u001b[33m\n",
      "\u001b[0m\n",
      "\u001b[1m[\u001b[0m\u001b[34;49mnotice\u001b[0m\u001b[1;39;49m]\u001b[0m\u001b[39;49m A new release of pip is available: \u001b[0m\u001b[31;49m23.0.1\u001b[0m\u001b[39;49m -> \u001b[0m\u001b[32;49m24.0\u001b[0m\n",
      "\u001b[1m[\u001b[0m\u001b[34;49mnotice\u001b[0m\u001b[1;39;49m]\u001b[0m\u001b[39;49m To update, run: \u001b[0m\u001b[32;49mpip install --upgrade pip\u001b[0m\n"
     ]
    }
   ],
   "source": [
    "!pip install py2neo"
   ]
  },
  {
   "cell_type": "code",
   "execution_count": 2,
   "metadata": {},
   "outputs": [
    {
     "name": "stdout",
     "output_type": "stream",
     "text": [
      "{'g': Node('Genre', name='hip hop'), 'tg': Node('TopGenre', name='hip hop')}\n",
      "{'g': Node('Genre', name='pop rap'), 'tg': Node('TopGenre', name='pop rap')}\n",
      "{'g': Node('Genre', name='rap'), 'tg': Node('TopGenre', name='rap')}\n",
      "{'g': Node('Genre', name='permanent wave'), 'tg': Node('TopGenre', name='permanent wave')}\n",
      "{'g': Node('Genre', name='rock'), 'tg': Node('TopGenre', name='rock')}\n",
      "{'g': Node('Genre', name='reggaeton'), 'tg': Node('TopGenre', name='reggaeton')}\n",
      "{'g': Node('Genre', name='trap latino'), 'tg': Node('TopGenre', name='trap latino')}\n",
      "{'g': Node('Genre', name='urbano latino'), 'tg': Node('TopGenre', name='urbano latino')}\n",
      "{'g': Node('Genre', name='modern alternative rock'), 'tg': Node('TopGenre', name='modern alternative rock')}\n",
      "{'g': Node('Genre', name='pop'), 'tg': Node('TopGenre', name='pop')}\n",
      "{'g': Node('Genre', name='modern rock'), 'tg': Node('TopGenre', name='modern rock')}\n",
      "{'g': Node('Genre', name='southern hip hop'), 'tg': Node('TopGenre', name='southern hip hop')}\n",
      "{'g': Node('Genre', name='trap'), 'tg': Node('TopGenre', name='trap')}\n",
      "{'g': Node('Genre', name='canadian contemporary r&b'), 'tg': Node('TopGenre', name='canadian contemporary r&b')}\n",
      "{'g': Node('Genre', name='canadian pop'), 'tg': Node('TopGenre', name='canadian pop')}\n",
      "{'g': Node('Genre', name='garage rock'), 'tg': Node('TopGenre', name='garage rock')}\n",
      "{'g': Node('Genre', name='melodic rap'), 'tg': Node('TopGenre', name='melodic rap')}\n",
      "{'g': Node('Genre', name='slap house'), 'tg': Node('TopGenre', name='slap house')}\n",
      "{'g': Node('Genre', name='pov: indie'), 'tg': Node('TopGenre', name='pov: indie')}\n",
      "{'g': Node('Genre', name='irish singer-songwriter'), 'tg': Node('TopGenre', name='irish singer-songwriter')}\n",
      "{'g': Node('Genre', name='r&b'), 'tg': Node('TopGenre', name='r&b')}\n",
      "{'g': Node('Genre', name='atl hip hop'), 'tg': Node('TopGenre', name='atl hip hop')}\n"
     ]
    }
   ],
   "source": [
    "from py2neo import Graph\n",
    "\n",
    "# Conectarse a Neo4j\n",
    "graph = Graph(\"bolt://neo4j:7687\", auth=(\"neo4j\", \"password\"))\n",
    "\n",
    "# Ejecutar una consulta de Cypher usando una cadena de múltiples líneas\n",
    "query = \"\"\"\n",
    "MATCH (g:Genre)\n",
    "MATCH (tg:TopGenre)\n",
    "WHERE g.name = tg.name\n",
    "RETURN g, tg\n",
    "\"\"\"\n",
    "nodes = graph.run(query).data()\n",
    "\n",
    "# Mostrar los resultados\n",
    "cont = 0\n",
    "for node in nodes:\n",
    "    print(node)\n"
   ]
  }
 ],
 "metadata": {
  "kernelspec": {
   "display_name": "Python 3 (ipykernel)",
   "language": "python",
   "name": "python3"
  },
  "language_info": {
   "codemirror_mode": {
    "name": "ipython",
    "version": 3
   },
   "file_extension": ".py",
   "mimetype": "text/x-python",
   "name": "python",
   "nbconvert_exporter": "python",
   "pygments_lexer": "ipython3",
   "version": "3.8.19"
  }
 },
 "nbformat": 4,
 "nbformat_minor": 4
}
