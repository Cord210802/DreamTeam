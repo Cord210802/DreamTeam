{
 "cells": [
  {
   "cell_type": "code",
   "execution_count": 1,
   "metadata": {},
   "outputs": [
    {
     "name": "stdout",
     "output_type": "stream",
     "text": [
      "Requirement already satisfied: py2neo in /usr/local/lib/python3.8/site-packages (2021.2.4)\n",
      "Requirement already satisfied: packaging in /usr/local/lib/python3.8/site-packages (from py2neo) (24.0)\n",
      "Requirement already satisfied: certifi in /usr/local/lib/python3.8/site-packages (from py2neo) (2024.2.2)\n",
      "Requirement already satisfied: monotonic in /usr/local/lib/python3.8/site-packages (from py2neo) (1.6)\n",
      "Requirement already satisfied: urllib3 in /usr/local/lib/python3.8/site-packages (from py2neo) (2.2.1)\n",
      "Requirement already satisfied: interchange~=2021.0.4 in /usr/local/lib/python3.8/site-packages (from py2neo) (2021.0.4)\n",
      "Requirement already satisfied: pygments>=2.0.0 in /usr/local/lib/python3.8/site-packages (from py2neo) (2.18.0)\n",
      "Requirement already satisfied: six>=1.15.0 in /usr/local/lib/python3.8/site-packages (from py2neo) (1.16.0)\n",
      "Requirement already satisfied: pansi>=2020.7.3 in /usr/local/lib/python3.8/site-packages (from py2neo) (2020.7.3)\n",
      "Requirement already satisfied: pytz in /usr/local/lib/python3.8/site-packages (from interchange~=2021.0.4->py2neo) (2024.1)\n",
      "\u001b[33mWARNING: Running pip as the 'root' user can result in broken permissions and conflicting behaviour with the system package manager. It is recommended to use a virtual environment instead: https://pip.pypa.io/warnings/venv\u001b[0m\u001b[33m\n",
      "\u001b[0m\n",
      "\u001b[1m[\u001b[0m\u001b[34;49mnotice\u001b[0m\u001b[1;39;49m]\u001b[0m\u001b[39;49m A new release of pip is available: \u001b[0m\u001b[31;49m23.0.1\u001b[0m\u001b[39;49m -> \u001b[0m\u001b[32;49m24.0\u001b[0m\n",
      "\u001b[1m[\u001b[0m\u001b[34;49mnotice\u001b[0m\u001b[1;39;49m]\u001b[0m\u001b[39;49m To update, run: \u001b[0m\u001b[32;49mpip install --upgrade pip\u001b[0m\n"
     ]
    }
   ],
   "source": [
    "!pip install py2neo"
   ]
  },
  {
   "cell_type": "code",
   "execution_count": 2,
   "metadata": {},
   "outputs": [
    {
     "name": "stdout",
     "output_type": "stream",
     "text": [
      "{'artist_name': 'Bad Bunny', 'artist_popularity': 92}\n",
      "{'artist_name': 'The Weeknd', 'artist_popularity': 92}\n",
      "{'artist_name': 'Travis Scott', 'artist_popularity': 91}\n",
      "{'artist_name': 'Eminem', 'artist_popularity': 87}\n",
      "{'artist_name': 'David Guetta', 'artist_popularity': 86}\n"
     ]
    }
   ],
   "source": [
    "from py2neo import Graph\n",
    "\n",
    "# Conectarse a Neo4j\n",
    "graph = Graph(\"bolt://neo4j:7687\", auth=(\"neo4j\", \"password\"))\n",
    "\n",
    "# Ejecutar una consulta de Cypher usando una cadena de múltiples líneas\n",
    "query = \"\"\"\n",
    "MATCH (a:Artist)\n",
    "RETURN a.name AS artist_name, a.popularity AS artist_popularity\n",
    "ORDER BY artist_popularity DESC\n",
    "LIMIT 5\n",
    "\"\"\"\n",
    "nodes = graph.run(query).data()\n",
    "\n",
    "# Mostrar los resultados\n",
    "for node in nodes:\n",
    "    print(node)\n"
   ]
  }
 ],
 "metadata": {
  "kernelspec": {
   "display_name": "Python 3 (ipykernel)",
   "language": "python",
   "name": "python3"
  },
  "language_info": {
   "codemirror_mode": {
    "name": "ipython",
    "version": 3
   },
   "file_extension": ".py",
   "mimetype": "text/x-python",
   "name": "python",
   "nbconvert_exporter": "python",
   "pygments_lexer": "ipython3",
   "version": "3.8.19"
  }
 },
 "nbformat": 4,
 "nbformat_minor": 4
}
