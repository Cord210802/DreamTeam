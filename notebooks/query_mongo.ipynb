{
 "cells": [
  {
   "cell_type": "markdown",
   "metadata": {},
   "source": [
    "### Que pedo mi sckalas"
   ]
  },
  {
   "cell_type": "markdown",
   "metadata": {},
   "source": [
    "Primero hacemos la conexion a mongo"
   ]
  },
  {
   "cell_type": "code",
   "execution_count": 1,
   "metadata": {},
   "outputs": [],
   "source": [
    "import pymongo\n",
    "from pymongo import MongoClient"
   ]
  },
  {
   "cell_type": "code",
   "execution_count": 2,
   "metadata": {},
   "outputs": [],
   "source": [
    "# Connect to MongoDB\n",
    "client = MongoClient('mongodb://mongodb:27017/')\n",
    "db = client['spotify']\n",
    "\n",
    "# Collections\n",
    "artists_collection = db['artists']\n",
    "tracks_collection = db['tracks']"
   ]
  },
  {
   "cell_type": "markdown",
   "metadata": {},
   "source": [
    "## Busquedas de los artistas"
   ]
  },
  {
   "cell_type": "code",
   "execution_count": 3,
   "metadata": {},
   "outputs": [
    {
     "name": "stdout",
     "output_type": "stream",
     "text": [
      "1. One artist document: {'followers': {'total': 13154}, 'genres': ['nz reggae'], 'name': 'Corrella', 'popularity': 41}\n"
     ]
    }
   ],
   "source": [
    "# 1. Find one artist document with specified fields\n",
    "artist = artists_collection.find_one({}, {\"name\": 1, \"popularity\": 1, \"followers.total\": 1, \"genres\": 1, \"_id\": 0})\n",
    "print(\"1. One artist document:\", artist)"
   ]
  },
  {
   "cell_type": "code",
   "execution_count": 4,
   "metadata": {},
   "outputs": [
    {
     "name": "stdout",
     "output_type": "stream",
     "text": [
      "artistas con popularidad mayor a 70\n",
      "{'name': 'Robin Schulz', 'popularity': 75}\n",
      "{'name': 'Lil Nas X', 'popularity': 73}\n",
      "{'name': 'Jack Harlow', 'popularity': 78}\n",
      "{'name': 'Tyler, The Creator', 'popularity': 83}\n",
      "{'name': 'Hotel Ugly', 'popularity': 73}\n",
      "{'name': 'Connor Price', 'popularity': 72}\n",
      "{'name': 'Bob Marley & The Wailers', 'popularity': 79}\n",
      "{'name': 'Travis Scott', 'popularity': 91}\n",
      "{'name': 'Bruno Mars', 'popularity': 86}\n",
      "{'name': 'Glass Animals', 'popularity': 73}\n",
      "{'name': 'TOTO', 'popularity': 73}\n",
      "{'name': 'Logic', 'popularity': 71}\n",
      "{'name': 'Joji', 'popularity': 76}\n",
      "{'name': 'Dominic Fike', 'popularity': 76}\n",
      "{'name': 'Macklemore', 'popularity': 76}\n",
      "{'name': 'Major Lazer', 'popularity': 74}\n",
      "{'name': 'The Chainsmokers', 'popularity': 79}\n",
      "{'name': 'Kendrick Lamar', 'popularity': 91}\n",
      "{'name': 'The Notorious B.I.G.', 'popularity': 74}\n",
      "{'name': 'Anderson .Paak', 'popularity': 74}\n",
      "{'name': 'Snoop Dogg', 'popularity': 79}\n",
      "{'name': 'Gucci Mane', 'popularity': 74}\n",
      "{'name': 'Pharrell Williams', 'popularity': 76}\n",
      "{'name': 'The Script', 'popularity': 73}\n",
      "{'name': 'Wiz Khalifa', 'popularity': 79}\n",
      "{'name': 'J. Cole', 'popularity': 84}\n",
      "{'name': 'Lil Uzi Vert', 'popularity': 82}\n",
      "{'name': 'Maná', 'popularity': 75}\n",
      "{'name': 'DaBaby', 'popularity': 76}\n",
      "{'name': 'Imagine Dragons', 'popularity': 85}\n",
      "{'name': 'Daft Punk', 'popularity': 78}\n",
      "{'name': 'Sean Paul', 'popularity': 78}\n",
      "{'name': 'Empire Of The Sun', 'popularity': 74}\n",
      "{'name': 'Banda MS de Sergio Lizárraga', 'popularity': 77}\n",
      "{'name': 'Bad Bunny', 'popularity': 92}\n",
      "{'name': 'The 1975', 'popularity': 74}\n",
      "{'name': 'MGMT', 'popularity': 72}\n",
      "{'name': 'Daniel Caesar', 'popularity': 78}\n",
      "{'name': 'Arcángel', 'popularity': 81}\n",
      "{'name': 'Maroon 5', 'popularity': 83}\n",
      "{'name': 'French Montana', 'popularity': 72}\n",
      "{'name': 'Earth, Wind & Fire', 'popularity': 72}\n",
      "{'name': 'Trueno', 'popularity': 75}\n",
      "{'name': 'NF', 'popularity': 76}\n",
      "{'name': 'Coldplay', 'popularity': 85}\n",
      "{'name': 'mgk', 'popularity': 75}\n",
      "{'name': 'Marvin Gaye', 'popularity': 71}\n",
      "{'name': 'The Weeknd', 'popularity': 92}\n",
      "{'name': 'Kanye West', 'popularity': 90}\n",
      "{'name': 'Russ', 'popularity': 74}\n",
      "{'name': \"Guns N' Roses\", 'popularity': 77}\n",
      "{'name': 'Migos', 'popularity': 73}\n",
      "{'name': 'Calvin Harris', 'popularity': 84}\n",
      "{'name': 'Bizarrap', 'popularity': 82}\n",
      "{'name': 'Childish Gambino', 'popularity': 78}\n",
      "{'name': 'Elton John', 'popularity': 80}\n",
      "{'name': 'AC/DC', 'popularity': 80}\n",
      "{'name': 'Outkast', 'popularity': 73}\n",
      "{'name': 'Black Sabbath', 'popularity': 71}\n",
      "{'name': 'XXXTENTACION', 'popularity': 85}\n",
      "{'name': 'Post Malone', 'popularity': 89}\n",
      "{'name': 'Mac DeMarco', 'popularity': 77}\n",
      "{'name': 'Bill Withers', 'popularity': 73}\n",
      "{'name': 'Kygo', 'popularity': 78}\n",
      "{'name': 'The Killers', 'popularity': 75}\n",
      "{'name': 'Red Hot Chili Peppers', 'popularity': 80}\n",
      "{'name': 'Tame Impala', 'popularity': 78}\n",
      "{'name': 'JAY-Z', 'popularity': 80}\n",
      "{'name': 'Adele', 'popularity': 81}\n",
      "{'name': 'David Guetta', 'popularity': 86}\n",
      "{'name': 'DJ Khaled', 'popularity': 72}\n",
      "{'name': 'Khalid', 'popularity': 82}\n",
      "{'name': 'Dr. Dre', 'popularity': 77}\n",
      "{'name': 'Cage The Elephant', 'popularity': 73}\n",
      "{'name': 'Eminem', 'popularity': 87}\n",
      "{'name': 'Daryl Hall & John Oates', 'popularity': 74}\n",
      "{'name': 'Fleetwood Mac', 'popularity': 79}\n",
      "{'name': 'Steve Lacy', 'popularity': 78}\n",
      "{'name': 'Future', 'popularity': 90}\n",
      "{'name': 'Big Sean', 'popularity': 73}\n",
      "{'name': 'Kings of Leon', 'popularity': 74}\n",
      "{'name': 'OneRepublic', 'popularity': 82}\n",
      "{'name': 'Paulo Londra', 'popularity': 72}\n",
      "{'name': 'Roddy Ricch', 'popularity': 74}\n",
      "{'name': 'Milky Chance', 'popularity': 71}\n",
      "{'name': 'Marshmello', 'popularity': 81}\n",
      "{'name': 'A$AP Rocky', 'popularity': 82}\n",
      "{'name': 'Tears For Fears', 'popularity': 72}\n",
      "{'name': 'Hozier', 'popularity': 84}\n",
      "{'name': 'Creedence Clearwater Revival', 'popularity': 79}\n",
      "{'name': 'Kid Cudi', 'popularity': 77}\n",
      "{'name': 'Tommy Richman', 'popularity': 81}\n",
      "{'name': 'Juice WRLD', 'popularity': 84}\n",
      "{'name': 'Macklemore & Ryan Lewis', 'popularity': 71}\n",
      "{'name': 'Fall Out Boy', 'popularity': 76}\n",
      "{'name': 'Twenty One Pilots', 'popularity': 82}\n",
      "{'name': 'Gorillaz', 'popularity': 77}\n",
      "{'name': 'Dire Straits', 'popularity': 73}\n",
      "{'name': 'Drake', 'popularity': 93}\n"
     ]
    }
   ],
   "source": [
    "# 2. Find all artists with popularity greater than 70, projecting specific fields\n",
    "popular_artists = artists_collection.find(\n",
    "    {\"popularity\": {\"$gt\": 70}},\n",
    "    {\"name\": 1, \"popularity\": 1, \"_id\": 0}\n",
    ")\n",
    "print(\"artistas con popularidad mayor a 70\")\n",
    "for artist in popular_artists:\n",
    "    print(artist)"
   ]
  },
  {
   "cell_type": "code",
   "execution_count": 5,
   "metadata": {},
   "outputs": [
    {
     "name": "stdout",
     "output_type": "stream",
     "text": [
      "3. Artists with genre 'pop rap':\n",
      "{'genres': ['deep underground hip hop', 'kentucky hip hop', 'pop rap', 'rap'], 'name': 'Jack Harlow'}\n",
      "{'genres': ['deep underground hip hop', 'indie pop rap', 'pop rap'], 'name': 'KYLE'}\n",
      "{'genres': ['conscious hip hop', 'hip hop', 'pop rap', 'rap'], 'name': 'Logic'}\n",
      "{'genres': ['pop rap', 'seattle hip hop'], 'name': 'Macklemore'}\n",
      "{'genres': ['g funk', 'gangster rap', 'hip hop', 'pop rap', 'rap', 'west coast rap'], 'name': 'Snoop Dogg'}\n",
      "{'genres': ['atl hip hop', 'dirty south rap', 'hip hop', 'pop rap', 'rap', 'southern hip hop', 'trap'], 'name': 'Gucci Mane'}\n",
      "{'genres': ['hip hop', 'pittsburgh rap', 'pop rap', 'rap', 'southern hip hop', 'trap'], 'name': 'Wiz Khalifa'}\n",
      "{'genres': ['hip hop', 'north carolina hip hop', 'pop rap', 'rap', 'trap'], 'name': 'DaBaby'}\n",
      "{'genres': ['dance pop', 'dancehall', 'pop', 'pop rap'], 'name': 'Sean Paul'}\n",
      "{'genres': ['hip hop', 'pop rap', 'rap', 'southern hip hop', 'trap'], 'name': 'French Montana'}\n",
      "{'genres': ['hip hop', 'pop rap'], 'name': 'NF'}\n",
      "{'genres': ['ohio hip hop', 'pop rap'], 'name': 'mgk'}\n",
      "{'genres': ['hawaiian hip hop', 'pop rap'], 'name': 'Russ'}\n",
      "{'genres': ['atl hip hop', 'hip hop', 'pop rap', 'rap', 'trap'], 'name': 'Migos'}\n",
      "{'genres': ['new jersey rap', 'pop rap', 'rap', 'southern hip hop', 'trap'], 'name': 'Fetty Wap'}\n",
      "{'genres': ['east coast hip hop', 'gangster rap', 'hip hop', 'pop rap', 'rap'], 'name': 'JAY-Z'}\n",
      "{'genres': ['dirty south rap', 'pop rap', 'rap', 'southern hip hop', 'trap'], 'name': 'Young Money'}\n",
      "{'genres': ['pop rap', 'viral rap'], 'name': 'Y2K'}\n",
      "{'genres': ['hip hop', 'miami hip hop', 'pop rap', 'rap'], 'name': 'DJ Khaled'}\n",
      "{'genres': ['detroit hip hop', 'hip hop', 'pop rap', 'r&b', 'rap', 'southern hip hop', 'trap'], 'name': 'Big Sean'}\n",
      "{'genres': ['hip hop', 'pop rap', 'rap', 'trap', 'underground hip hop'], 'name': 'Cordae'}\n",
      "{'genres': ['hip hop', 'ohio hip hop', 'pop rap', 'rap'], 'name': 'Kid Cudi'}\n",
      "{'genres': ['pop rap', 'seattle hip hop'], 'name': 'Macklemore & Ryan Lewis'}\n",
      "{'genres': ['atl hip hop', 'pop rap'], 'name': 'CeeLo Green'}\n",
      "{'genres': ['canadian hip hop', 'canadian pop', 'hip hop', 'pop rap', 'rap'], 'name': 'Drake'}\n"
     ]
    }
   ],
   "source": [
    "# 3. Find artists belonging to the genre 'pop rap', projecting specific fields\n",
    "pop_rap_artists = artists_collection.find(\n",
    "    {\"genres\": \"pop rap\"},\n",
    "    {\"name\": 1, \"genres\": 1, \"_id\": 0}\n",
    ")\n",
    "print(\"3. Artists with genre 'pop rap':\")\n",
    "for artist in pop_rap_artists:\n",
    "    print(artist)"
   ]
  },
  {
   "cell_type": "code",
   "execution_count": 6,
   "metadata": {},
   "outputs": [
    {
     "name": "stdout",
     "output_type": "stream",
     "text": [
      "4. Artists with more than 1 million followers:\n",
      "{'followers': {'total': 3081383}, 'name': 'Robin Schulz'}\n",
      "{'followers': {'total': 12400949}, 'name': 'Lil Nas X'}\n",
      "{'followers': {'total': 3788500}, 'name': 'Jack Harlow'}\n",
      "{'followers': {'total': 15079701}, 'name': 'Tyler, The Creator'}\n",
      "{'followers': {'total': 1068645}, 'name': 'KYLE'}\n",
      "{'followers': {'total': 1331094}, 'name': 'Connor Price'}\n",
      "{'followers': {'total': 12238214}, 'name': 'Bob Marley & The Wailers'}\n",
      "{'followers': {'total': 29627482}, 'name': 'Travis Scott'}\n",
      "{'followers': {'total': 2848581}, 'name': 'Calle 13'}\n",
      "{'followers': {'total': 55616780}, 'name': 'Bruno Mars'}\n",
      "{'followers': {'total': 4112265}, 'name': 'Glass Animals'}\n",
      "{'followers': {'total': 4145437}, 'name': 'BoyWithUke'}\n",
      "{'followers': {'total': 1268026}, 'name': 'Men At Work'}\n",
      "{'followers': {'total': 2912859}, 'name': 'TOTO'}\n",
      "{'followers': {'total': 6036025}, 'name': 'Logic'}\n",
      "{'followers': {'total': 1143227}, 'name': 'Surf Curse'}\n",
      "{'followers': {'total': 9509331}, 'name': 'Joji'}\n",
      "{'followers': {'total': 1077533}, 'name': 'Twista'}\n",
      "{'followers': {'total': 1702458}, 'name': 'Dominic Fike'}\n",
      "{'followers': {'total': 4188195}, 'name': 'Carla Morrison'}\n",
      "{'followers': {'total': 7151766}, 'name': 'Jason Mraz'}\n",
      "{'followers': {'total': 2308891}, 'name': 'Macklemore'}\n",
      "{'followers': {'total': 6139050}, 'name': 'Major Lazer'}\n",
      "{'followers': {'total': 20125758}, 'name': 'The Chainsmokers'}\n",
      "{'followers': {'total': 29369240}, 'name': 'Kendrick Lamar'}\n",
      "{'followers': {'total': 10191347}, 'name': 'The Notorious B.I.G.'}\n",
      "{'followers': {'total': 2509881}, 'name': 'Anderson .Paak'}\n",
      "{'followers': {'total': 1913515}, 'name': 'Jack Stauber'}\n",
      "{'followers': {'total': 1204455}, 'name': 'Snoh Aalegra'}\n",
      "{'followers': {'total': 11736315}, 'name': 'Snoop Dogg'}\n",
      "{'followers': {'total': 1433507}, 'name': 'The Score'}\n",
      "{'followers': {'total': 5447798}, 'name': 'Gucci Mane'}\n",
      "{'followers': {'total': 3105905}, 'name': 'The White Stripes'}\n",
      "{'followers': {'total': 4481924}, 'name': 'Pharrell Williams'}\n",
      "{'followers': {'total': 7979369}, 'name': 'The Script'}\n",
      "{'followers': {'total': 11000237}, 'name': 'Wiz Khalifa'}\n",
      "{'followers': {'total': 1401166}, 'name': 'Foals'}\n",
      "{'followers': {'total': 23581794}, 'name': 'J. Cole'}\n",
      "{'followers': {'total': 17149571}, 'name': 'Lil Uzi Vert'}\n",
      "{'followers': {'total': 10851725}, 'name': 'Maná'}\n",
      "{'followers': {'total': 11947414}, 'name': 'DaBaby'}\n",
      "{'followers': {'total': 52577987}, 'name': 'Imagine Dragons'}\n",
      "{'followers': {'total': 9879926}, 'name': 'Daft Punk'}\n",
      "{'followers': {'total': 4657744}, 'name': 'Sean Paul'}\n",
      "{'followers': {'total': 1494045}, 'name': 'Empire Of The Sun'}\n",
      "{'followers': {'total': 17229620}, 'name': 'Banda MS de Sergio Lizárraga'}\n",
      "{'followers': {'total': 81568699}, 'name': 'Bad Bunny'}\n",
      "{'followers': {'total': 1086759}, 'name': 'Lil Kleine'}\n",
      "{'followers': {'total': 7837506}, 'name': 'The Doors'}\n",
      "{'followers': {'total': 7175899}, 'name': 'The 1975'}\n",
      "{'followers': {'total': 3090300}, 'name': 'MGMT'}\n",
      "{'followers': {'total': 2390497}, 'name': 'R. Kelly'}\n",
      "{'followers': {'total': 5850382}, 'name': 'Daniel Caesar'}\n",
      "{'followers': {'total': 2530593}, 'name': 'The Kooks'}\n",
      "{'followers': {'total': 14123877}, 'name': 'Arcángel'}\n",
      "{'followers': {'total': 41530380}, 'name': 'Maroon 5'}\n",
      "{'followers': {'total': 5405241}, 'name': 'French Montana'}\n",
      "{'followers': {'total': 2476543}, 'name': 'Nanpa Básico'}\n",
      "{'followers': {'total': 4246171}, 'name': 'Earth, Wind & Fire'}\n",
      "{'followers': {'total': 6155654}, 'name': 'Trueno'}\n",
      "{'followers': {'total': 9843356}, 'name': 'NF'}\n",
      "{'followers': {'total': 50612768}, 'name': 'Coldplay'}\n",
      "{'followers': {'total': 1586425}, 'name': 'Eddie Vedder'}\n",
      "{'followers': {'total': 1554305}, 'name': 'American Authors'}\n",
      "{'followers': {'total': 5239278}, 'name': 'mgk'}\n",
      "{'followers': {'total': 5305823}, 'name': 'Marvin Gaye'}\n",
      "{'followers': {'total': 83950068}, 'name': 'The Weeknd'}\n",
      "{'followers': {'total': 2890601}, 'name': 'Louis Armstrong'}\n",
      "{'followers': {'total': 25447021}, 'name': 'Kanye West'}\n",
      "{'followers': {'total': 5106910}, 'name': 'Russ'}\n",
      "{'followers': {'total': 30691052}, 'name': \"Guns N' Roses\"}\n",
      "{'followers': {'total': 13784751}, 'name': 'Migos'}\n",
      "{'followers': {'total': 22562235}, 'name': 'Calvin Harris'}\n",
      "{'followers': {'total': 15269471}, 'name': 'Bizarrap'}\n",
      "{'followers': {'total': 12727504}, 'name': 'Childish Gambino'}\n",
      "{'followers': {'total': 13267419}, 'name': 'Elton John'}\n",
      "{'followers': {'total': 28380338}, 'name': 'AC/DC'}\n",
      "{'followers': {'total': 3293118}, 'name': 'Sting'}\n",
      "{'followers': {'total': 2639209}, 'name': 'Outkast'}\n",
      "{'followers': {'total': 4502989}, 'name': 'R.E.M.'}\n",
      "{'followers': {'total': 4612124}, 'name': 'Fetty Wap'}\n",
      "{'followers': {'total': 1770417}, 'name': 'KALEO'}\n",
      "{'followers': {'total': 7820743}, 'name': 'Black Sabbath'}\n",
      "{'followers': {'total': 44860886}, 'name': 'XXXTENTACION'}\n",
      "{'followers': {'total': 2149005}, 'name': 'Micro TDH'}\n",
      "{'followers': {'total': 44019588}, 'name': 'Post Malone'}\n",
      "{'followers': {'total': 5014542}, 'name': 'Lil Skies'}\n",
      "{'followers': {'total': 5854865}, 'name': 'Mac DeMarco'}\n",
      "{'followers': {'total': 1701352}, 'name': 'Bill Withers'}\n",
      "{'followers': {'total': 8336373}, 'name': 'Kygo'}\n",
      "{'followers': {'total': 7273569}, 'name': 'The Killers'}\n",
      "{'followers': {'total': 20719568}, 'name': 'Red Hot Chili Peppers'}\n",
      "{'followers': {'total': 7765058}, 'name': 'Tame Impala'}\n",
      "{'followers': {'total': 9086140}, 'name': 'JAY-Z'}\n",
      "{'followers': {'total': 3001721}, 'name': 'Young Money'}\n",
      "{'followers': {'total': 1646308}, 'name': 'Charles Ans'}\n",
      "{'followers': {'total': 3450325}, 'name': 'Joey Bada$$'}\n",
      "{'followers': {'total': 55513347}, 'name': 'Adele'}\n",
      "{'followers': {'total': 25511444}, 'name': 'David Guetta'}\n",
      "{'followers': {'total': 3748013}, 'name': 'Foster The People'}\n",
      "{'followers': {'total': 3736316}, 'name': 'Nas'}\n",
      "{'followers': {'total': 3214958}, 'name': 'Lenny Kravitz'}\n",
      "{'followers': {'total': 11339365}, 'name': 'DJ Khaled'}\n",
      "{'followers': {'total': 16139506}, 'name': 'Khalid'}\n",
      "{'followers': {'total': 11712312}, 'name': 'Dr. Dre'}\n",
      "{'followers': {'total': 1239721}, 'name': 'Tom Misch'}\n",
      "{'followers': {'total': 3706482}, 'name': 'Cage The Elephant'}\n",
      "{'followers': {'total': 84484990}, 'name': 'Eminem'}\n",
      "{'followers': {'total': 2402686}, 'name': 'Daryl Hall & John Oates'}\n",
      "{'followers': {'total': 1653916}, 'name': 'Yung Gravy'}\n",
      "{'followers': {'total': 11456005}, 'name': 'Fleetwood Mac'}\n",
      "{'followers': {'total': 4597635}, 'name': 'Steve Lacy'}\n",
      "{'followers': {'total': 17147533}, 'name': 'Future'}\n",
      "{'followers': {'total': 11084246}, 'name': 'Big Sean'}\n",
      "{'followers': {'total': 1919549}, 'name': 'AnnenMayKantereit'}\n",
      "{'followers': {'total': 2007331}, 'name': 'Cordae'}\n",
      "{'followers': {'total': 1671191}, 'name': 'Tash Sultana'}\n",
      "{'followers': {'total': 5347198}, 'name': 'Kings of Leon'}\n",
      "{'followers': {'total': 16970857}, 'name': 'OneRepublic'}\n",
      "{'followers': {'total': 22599878}, 'name': 'Paulo Londra'}\n",
      "{'followers': {'total': 10533472}, 'name': 'Roddy Ricch'}\n",
      "{'followers': {'total': 1922461}, 'name': 'Milky Chance'}\n",
      "{'followers': {'total': 33615636}, 'name': 'Marshmello'}\n",
      "{'followers': {'total': 1414839}, 'name': 'Jim Croce'}\n",
      "{'followers': {'total': 2437613}, 'name': 'Flume'}\n",
      "{'followers': {'total': 3260684}, 'name': 'alt-J'}\n",
      "{'followers': {'total': 14129866}, 'name': 'A$AP Rocky'}\n",
      "{'followers': {'total': 3422518}, 'name': 'Tears For Fears'}\n",
      "{'followers': {'total': 7148055}, 'name': 'Hozier'}\n",
      "{'followers': {'total': 6574426}, 'name': 'Creedence Clearwater Revival'}\n",
      "{'followers': {'total': 1377311}, 'name': 'Masego'}\n",
      "{'followers': {'total': 1825044}, 'name': \"Rag'n'Bone Man\"}\n",
      "{'followers': {'total': 7032853}, 'name': 'Kid Cudi'}\n",
      "{'followers': {'total': 1997943}, 'name': 'Eurythmics'}\n",
      "{'followers': {'total': 1002400}, 'name': 'Still Woozy'}\n",
      "{'followers': {'total': 33744760}, 'name': 'Juice WRLD'}\n",
      "{'followers': {'total': 2534259}, 'name': 'Macklemore & Ryan Lewis'}\n",
      "{'followers': {'total': 10598075}, 'name': 'Fall Out Boy'}\n",
      "{'followers': {'total': 1377087}, 'name': 'BlocBoy JB'}\n",
      "{'followers': {'total': 24178774}, 'name': 'Twenty One Pilots'}\n",
      "{'followers': {'total': 11625430}, 'name': 'Gorillaz'}\n",
      "{'followers': {'total': 7472426}, 'name': 'Dire Straits'}\n",
      "{'followers': {'total': 89301822}, 'name': 'Drake'}\n"
     ]
    }
   ],
   "source": [
    "# 4. Find artists with more than 1 million followers, projecting specific fields\n",
    "million_followers_artists = artists_collection.find(\n",
    "    {\"followers.total\": {\"$gt\": 1000000}},\n",
    "    {\"name\": 1, \"followers.total\": 1, \"_id\": 0}\n",
    ")\n",
    "print(\"4. Artists with more than 1 million followers:\")\n",
    "for artist in million_followers_artists:\n",
    "    print(artist)"
   ]
  },
  {
   "cell_type": "code",
   "execution_count": 7,
   "metadata": {},
   "outputs": [
    {
     "name": "stdout",
     "output_type": "stream",
     "text": [
      "Numero total de artistas: 228\n"
     ]
    }
   ],
   "source": [
    "# 5. Count the number of artists in the collection\n",
    "artist_count = artists_collection.count_documents({})\n",
    "print(\"Numero total de artistas:\", artist_count)"
   ]
  },
  {
   "cell_type": "markdown",
   "metadata": {},
   "source": [
    "## Busquedas de canciones"
   ]
  },
  {
   "cell_type": "code",
   "execution_count": 8,
   "metadata": {},
   "outputs": [
    {
     "name": "stdout",
     "output_type": "stream",
     "text": [
      "Como se ve un documento {'track_name': 'Down', 'artist_name': 'Marian Hill', 'album_name': 'ACT ONE'}\n"
     ]
    }
   ],
   "source": [
    "# 1. Find one track document with specified fields\n",
    "track = tracks_collection.find_one({}, {\"track_name\": 1, \"artist_name\": 1, \"album_name\": 1, \"_id\": 0})\n",
    "print(\"Como se ve un documento\", track)"
   ]
  },
  {
   "cell_type": "code",
   "execution_count": 9,
   "metadata": {},
   "outputs": [
    {
     "name": "stdout",
     "output_type": "stream",
     "text": [
      "Canciones de Pinkfloyd\n"
     ]
    }
   ],
   "source": [
    "# 2. Find all tracks by 'Pink Floyd'\n",
    "pink_floyd_tracks = tracks_collection.find(\n",
    "    {\"artist_name\": \"Pink Floyd\"},\n",
    "    {\"track_name\": 1, \"album_name\": 1, \"_id\": 0}\n",
    ")\n",
    "print(\"Canciones de Pinkfloyd\")\n",
    "for track in pink_floyd_tracks:\n",
    "    print(track)"
   ]
  },
  {
   "cell_type": "code",
   "execution_count": 10,
   "metadata": {},
   "outputs": [
    {
     "name": "stdout",
     "output_type": "stream",
     "text": [
      "Canciones que esten en el album The Wall\n"
     ]
    }
   ],
   "source": [
    "# 3. Find all tracks in the album 'The Wall', projecting specific fields\n",
    "the_wall_tracks = tracks_collection.find(\n",
    "    {\"album_name\": \"The Wall\"},\n",
    "    {\"track_name\": 1, \"artist_name\": 1, \"_id\": 0}\n",
    ")\n",
    "print(\"Canciones que esten en el album The Wall\")\n",
    "for track in the_wall_tracks:\n",
    "    print(track)"
   ]
  },
  {
   "cell_type": "code",
   "execution_count": 11,
   "metadata": {},
   "outputs": [
    {
     "name": "stdout",
     "output_type": "stream",
     "text": [
      "numero de canciones de Pink Floyd 0\n"
     ]
    }
   ],
   "source": [
    "# 4. Count the number of tracks by 'Pink Floyd'\n",
    "pink_floyd_track_count = tracks_collection.count_documents({\"artist_name\": \"Pink Floyd\"})\n",
    "print(\"numero de canciones de Pink Floyd\", pink_floyd_track_count)"
   ]
  },
  {
   "cell_type": "code",
   "execution_count": 12,
   "metadata": {},
   "outputs": [
    {
     "name": "stdout",
     "output_type": "stream",
     "text": [
      "Canciones que contengan la palabra Comfortably\n"
     ]
    }
   ],
   "source": [
    "# 5. Find all tracks with track name containing 'Comfortably', projecting specific fields\n",
    "comfortably_tracks = tracks_collection.find(\n",
    "    {\"track_name\": {\"$regex\": \"Comfortably\"}},\n",
    "    {\"track_name\": 1, \"artist_name\": 1, \"album_name\": 1, \"_id\": 0}\n",
    ")\n",
    "print(\"Canciones que contengan la palabra Comfortably\")\n",
    "for track in comfortably_tracks:\n",
    "    print(track)"
   ]
  },
  {
   "cell_type": "markdown",
   "metadata": {},
   "source": [
    "## Ahora vamos a ver algunas grafiquitas"
   ]
  },
  {
   "cell_type": "code",
   "execution_count": 13,
   "metadata": {},
   "outputs": [],
   "source": [
    "import pymongo\n",
    "from pymongo import MongoClient\n",
    "import matplotlib.pyplot as plt"
   ]
  },
  {
   "cell_type": "code",
   "execution_count": 14,
   "metadata": {},
   "outputs": [
    {
     "data": {
      "image/png": "[encoded data removed]",
      "text/plain": [
       "<Figure size 1000x500 with 1 Axes>"
      ]
     },
     "metadata": {},
     "output_type": "display_data"
    }
   ],
   "source": [
    "# Fetch data for the plots\n",
    "artists_data = artists_collection.find({}, {\"popularity\": 1, \"genres\": 1, \"_id\": 0})\n",
    "tracks_data = tracks_collection.find({}, {\"artist_name\": 1, \"_id\": 0})\n",
    "\n",
    "# Prepare data for plotting\n",
    "artist_popularity = []\n",
    "genre_counts = {}\n",
    "\n",
    "for artist in artists_data:\n",
    "    artist_popularity.append(artist['popularity'])\n",
    "    for genre in artist.get('genres', []):\n",
    "        if genre not in genre_counts:\n",
    "            genre_counts[genre] = 0\n",
    "        genre_counts[genre] += 1\n",
    "\n",
    "# Plot the distribution of artists' popularity\n",
    "plt.figure(figsize=(10, 5))\n",
    "plt.hist(artist_popularity, bins=20, color='blue', edgecolor='black')\n",
    "plt.xlabel('Popularity')\n",
    "plt.ylabel('Number of Artists')\n",
    "plt.title('Distribution of Artists Popularity')\n",
    "plt.show()"
   ]
  },
  {
   "cell_type": "code",
   "execution_count": 15,
   "metadata": {},
   "outputs": [
    {
     "data": {
      "image/png": "[encoded data removed]",
      "text/plain": [
       "<Figure size 1000x500 with 1 Axes>"
      ]
     },
     "metadata": {},
     "output_type": "display_data"
    }
   ],
   "source": [
    "# Fetch data for the plots\n",
    "artists_data = artists_collection.find({}, {\"popularity\": 1, \"followers.total\": 1, \"genres\": 1, \"_id\": 0})\n",
    "tracks_data = tracks_collection.find({}, {\"artist_name\": 1, \"_id\": 0})\n",
    "\n",
    "# Prepare data for plotting\n",
    "artist_popularity = []\n",
    "artist_followers = []\n",
    "genre_counts = {}\n",
    "\n",
    "for artist in artists_data:\n",
    "    artist_popularity.append(artist['popularity'])\n",
    "    artist_followers.append(artist['followers']['total'])\n",
    "    for genre in artist.get('genres', []):\n",
    "        if genre not in genre_counts:\n",
    "            genre_counts[genre] = 0\n",
    "        genre_counts[genre] += 1\n",
    "\n",
    "# Scatter plot of popularity vs. followers\n",
    "plt.figure(figsize=(10, 5))\n",
    "plt.scatter(artist_popularity, artist_followers, alpha=0.5)\n",
    "plt.xlabel('Popularity')\n",
    "plt.ylabel('Followers')\n",
    "plt.title('Popularity vs. Followers')\n",
    "plt.show()"
   ]
  },
  {
   "cell_type": "code",
   "execution_count": null,
   "metadata": {},
   "outputs": [],
   "source": []
  }
 ],
 "metadata": {
  "kernelspec": {
   "display_name": "Python 3 (ipykernel)",
   "language": "python",
   "name": "python3"
  },
  "language_info": {
   "codemirror_mode": {
    "name": "ipython",
    "version": 3
   },
   "file_extension": ".py",
   "mimetype": "text/x-python",
   "name": "python",
   "nbconvert_exporter": "python",
   "pygments_lexer": "ipython3",
   "version": "3.8.19"
  }
 },
 "nbformat": 4,
 "nbformat_minor": 4
}
